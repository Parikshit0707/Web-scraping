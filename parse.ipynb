{
 "cells": [
  {
   "cell_type": "code",
   "execution_count": 4,
   "metadata": {},
   "outputs": [],
   "source": [
    "import requests\n",
    "from bs4 import BeautifulSoup\n",
    "import pandas as pd"
   ]
  },
  {
   "cell_type": "code",
   "execution_count": 5,
   "metadata": {},
   "outputs": [],
   "source": [
    "def getData(url):\n",
    "    headers = {'User-Agent': 'Mozilla/5.0'}\n",
    "    response = requests.get(url, headers=headers)\n",
    "    if response.status_code == 200:\n",
    "        soup = BeautifulSoup(response.content, 'html.parser')\n",
    "        table = soup.find('table', id='ContentPlaceHolder1_gvbulk_deals')\n",
    "        data = []\n",
    "        for row in table.find_all('tr'):\n",
    "            row_data = []\n",
    "            for cell in row.find_all(['td', 'th']):\n",
    "                row_data.append(cell.text.strip())\n",
    "            data.append(row_data)\n",
    "        \n",
    "        return data\n",
    "    \n",
    "    else:\n",
    "        print(\"Error occured\")"
   ]
  },
  {
   "cell_type": "code",
   "execution_count": 13,
   "metadata": {},
   "outputs": [
    {
     "data": {
      "text/html": [
       "<div>\n",
       "<style scoped>\n",
       "    .dataframe tbody tr th:only-of-type {\n",
       "        vertical-align: middle;\n",
       "    }\n",
       "\n",
       "    .dataframe tbody tr th {\n",
       "        vertical-align: top;\n",
       "    }\n",
       "\n",
       "    .dataframe thead th {\n",
       "        text-align: right;\n",
       "    }\n",
       "</style>\n",
       "<table border=\"1\" class=\"dataframe\">\n",
       "  <thead>\n",
       "    <tr style=\"text-align: right;\">\n",
       "      <th></th>\n",
       "      <th>Deal_Date</th>\n",
       "      <th>Security_Code</th>\n",
       "      <th>Security_Name</th>\n",
       "      <th>Client_Name</th>\n",
       "      <th>Deal_Type</th>\n",
       "      <th>Quantity</th>\n",
       "      <th>Price</th>\n",
       "    </tr>\n",
       "  </thead>\n",
       "  <tbody>\n",
       "    <tr>\n",
       "      <th>0</th>\n",
       "      <td>04/08/2023</td>\n",
       "      <td>543319</td>\n",
       "      <td>AAPLUSTRAD</td>\n",
       "      <td>AJAY SALVI</td>\n",
       "      <td>S</td>\n",
       "      <td>64,000</td>\n",
       "      <td>10.95</td>\n",
       "    </tr>\n",
       "    <tr>\n",
       "      <th>1</th>\n",
       "      <td>04/08/2023</td>\n",
       "      <td>543941</td>\n",
       "      <td>AHASOLAR</td>\n",
       "      <td>WORLD FOODS LLP</td>\n",
       "      <td>S</td>\n",
       "      <td>16,800</td>\n",
       "      <td>363.30</td>\n",
       "    </tr>\n",
       "    <tr>\n",
       "      <th>2</th>\n",
       "      <td>04/08/2023</td>\n",
       "      <td>543941</td>\n",
       "      <td>AHASOLAR</td>\n",
       "      <td>YUGA STOCKS AND COMMODITIES PRIVATE LIMITED  .</td>\n",
       "      <td>B</td>\n",
       "      <td>16,000</td>\n",
       "      <td>363.30</td>\n",
       "    </tr>\n",
       "    <tr>\n",
       "      <th>3</th>\n",
       "      <td>04/08/2023</td>\n",
       "      <td>543453</td>\n",
       "      <td>ALKOSIGN</td>\n",
       "      <td>GOVINDARAJAN</td>\n",
       "      <td>B</td>\n",
       "      <td>39,000</td>\n",
       "      <td>120.00</td>\n",
       "    </tr>\n",
       "    <tr>\n",
       "      <th>4</th>\n",
       "      <td>04/08/2023</td>\n",
       "      <td>512149</td>\n",
       "      <td>AVANCE</td>\n",
       "      <td>MULTIPLIER SHARE &amp; STOCK ADVISORS PRIVATE LIMITED</td>\n",
       "      <td>B</td>\n",
       "      <td>3,073,143</td>\n",
       "      <td>1.49</td>\n",
       "    </tr>\n",
       "  </tbody>\n",
       "</table>\n",
       "</div>"
      ],
      "text/plain": [
       "    Deal_Date Security_Code Security_Name  \\\n",
       "0  04/08/2023        543319    AAPLUSTRAD   \n",
       "1  04/08/2023        543941      AHASOLAR   \n",
       "2  04/08/2023        543941      AHASOLAR   \n",
       "3  04/08/2023        543453      ALKOSIGN   \n",
       "4  04/08/2023        512149        AVANCE   \n",
       "\n",
       "                                         Client_Name Deal_Type   Quantity  \\\n",
       "0                                         AJAY SALVI         S     64,000   \n",
       "1                                    WORLD FOODS LLP         S     16,800   \n",
       "2     YUGA STOCKS AND COMMODITIES PRIVATE LIMITED  .         B     16,000   \n",
       "3                                       GOVINDARAJAN         B     39,000   \n",
       "4  MULTIPLIER SHARE & STOCK ADVISORS PRIVATE LIMITED         B  3,073,143   \n",
       "\n",
       "    Price  \n",
       "0   10.95  \n",
       "1  363.30  \n",
       "2  363.30  \n",
       "3  120.00  \n",
       "4    1.49  "
      ]
     },
     "execution_count": 13,
     "metadata": {},
     "output_type": "execute_result"
    }
   ],
   "source": [
    "\n",
    "data = getData(\"https://www.bseindia.com/markets/equity/EQReports/bulk_deals.aspx\")\n",
    "df = pd.DataFrame(data[1:])\n",
    "df.columns = ['Deal_Date', 'Security_Code', 'Security_Name', 'Client_Name', 'Deal_Type', 'Quantity', 'Price']\n",
    "\n",
    "df.head()"
   ]
  },
  {
   "cell_type": "code",
   "execution_count": 12,
   "metadata": {},
   "outputs": [
    {
     "data": {
      "text/plain": [
       "['Deal Date',\n",
       " 'Security Code',\n",
       " 'Security Name',\n",
       " 'Client Name',\n",
       " 'Deal Type *',\n",
       " 'Quantity',\n",
       " 'Price **']"
      ]
     },
     "execution_count": 12,
     "metadata": {},
     "output_type": "execute_result"
    }
   ],
   "source": []
  },
  {
   "cell_type": "code",
   "execution_count": 9,
   "metadata": {},
   "outputs": [],
   "source": [
    "# Storing in Mysql database"
   ]
  },
  {
   "cell_type": "code",
   "execution_count": 10,
   "metadata": {},
   "outputs": [],
   "source": [
    "import mysql.connector\n",
    "from sqlalchemy import create_engine"
   ]
  },
  {
   "cell_type": "code",
   "execution_count": 16,
   "metadata": {},
   "outputs": [],
   "source": [
    "mysql_username = 'parikshit'\n",
    "mysql_password = '12345678'\n",
    "mysql_host = 'localhost'\n",
    "mysql_database = 'BSE'\n",
    "\n",
    "# Connect to MySQL\n",
    "conn = mysql.connector.connect(\n",
    "    host=mysql_host,\n",
    "    user=mysql_username,\n",
    "    password=mysql_password,\n",
    "    database=mysql_database\n",
    ")\n",
    "\n",
    "# Create a SQLAlchemy engine to handle the connection\n",
    "engine = create_engine(f'mysql+mysqlconnector://{mysql_username}:{mysql_password}@{mysql_host}/{mysql_database}')\n",
    "\n",
    "# Replace 'df' with your DataFrame\n",
    "# Assuming your DataFrame columns align with the columns in the MySQL table\n",
    "df.to_sql('Market_Data', con=engine, if_exists='append', index=False)\n",
    "\n",
    "# Close the connection\n",
    "conn.close()\n"
   ]
  }
 ],
 "metadata": {
  "kernelspec": {
   "display_name": "Python 3",
   "language": "python",
   "name": "python3"
  },
  "language_info": {
   "codemirror_mode": {
    "name": "ipython",
    "version": 3
   },
   "file_extension": ".py",
   "mimetype": "text/x-python",
   "name": "python",
   "nbconvert_exporter": "python",
   "pygments_lexer": "ipython3",
   "version": "3.8.10"
  },
  "orig_nbformat": 4
 },
 "nbformat": 4,
 "nbformat_minor": 2
}
